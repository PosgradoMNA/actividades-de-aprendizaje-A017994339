{
  "nbformat": 4,
  "nbformat_minor": 0,
  "metadata": {
    "colab": {
      "provenance": [],
      "collapsed_sections": [],
      "authorship_tag": "ABX9TyNC2ltY/HSWYf1R0Vmr8cbo",
      "include_colab_link": true
    },
    "kernelspec": {
      "name": "python3",
      "display_name": "Python 3"
    },
    "language_info": {
      "name": "python"
    }
  },
  "cells": [
    {
      "cell_type": "markdown",
      "metadata": {
        "id": "view-in-github",
        "colab_type": "text"
      },
      "source": [
        "<a href=\"https://colab.research.google.com/github/PosgradoMNA/actividades-de-aprendizaje-A017994339/blob/main/A01794339_Modulo5.ipynb\" target=\"_parent\"><img src=\"https://colab.research.google.com/assets/colab-badge.svg\" alt=\"Open In Colab\"/></a>"
      ]
    },
    {
      "cell_type": "markdown",
      "source": [
        "**ARREGLOS - VECTORES**"
      ],
      "metadata": {
        "id": "MfR9pNtvvAck"
      }
    },
    {
      "cell_type": "markdown",
      "source": [
        "1D ARRAY"
      ],
      "metadata": {
        "id": "x7OtqzmNvzvQ"
      }
    },
    {
      "cell_type": "code",
      "source": [
        "#La libreria NumPy se utiliza para el manejo adecuado de listas \n",
        "\n",
        "import numpy as np\n",
        "\n",
        "a = np.array([1,2,3,4,5])\n",
        "#puedes acceder a traves del indice\n",
        "a[2]\n",
        "#Son similares a las listas , solo que estos deben ser del mismo tipo d datos\n",
        "#funciones - size -> regresa el tamaño del arreglo\n",
        "a.size\n",
        "#retorna las dimensiones del arreglo\n",
        "a.ndim\n",
        "#Se puede hacer slicing a traves de los indices\n",
        "#retorna los elementos del arreglo de la posicion 2 a la 4 [3,4]\n",
        "b = a[2:4]\n",
        "b\n",
        "\n",
        "#Se puede modificar el valor de un arreglo a traves del indice\n",
        "#array([150,   2,   3,   4,   5])\n",
        "a[0]=150\n",
        "\n"
      ],
      "metadata": {
        "id": "QQ6cVYDavJdL"
      },
      "execution_count": 2,
      "outputs": []
    },
    {
      "cell_type": "markdown",
      "source": [
        "**Vectores** - operaciones básicas"
      ],
      "metadata": {
        "id": "7ymDRfPLyhnV"
      }
    },
    {
      "cell_type": "code",
      "source": [
        "u = np.array([1,0])\n",
        "v = np.array([0,1])\n",
        "#suma \n",
        "z = u+v\n",
        "z\n",
        "#multiplicar por una escalar (constante)\n",
        "y = np.array([1,2])\n",
        "nuevoVector = 2*y\n",
        "nuevoVector\n",
        "\n",
        "#multiplicar 2 vectores\n",
        "#array([2, 8])\n",
        "x = np.array([2,4])\n",
        "y = np.array([1,2])\n",
        "xy = x*y\n",
        "xy\n",
        "\n",
        "#Producto punto\n",
        "u= np.array([1,3])\n",
        "v= np.array([2,3])\n",
        "z = np.dot(u,v)\n",
        "print(z)\n",
        "\n",
        "#puedes agregar valores a todo el arreglo , por ejemplo sumar 5 a todo el arreglo\n",
        "#array([ 6,  7,  8,  9, 10, 11])\n",
        "a = np.array([1,2,3,4,5,6])\n",
        "b = a+5\n",
        "b"
      ],
      "metadata": {
        "colab": {
          "base_uri": "https://localhost:8080/"
        },
        "id": "ZJObYG_AzCaC",
        "outputId": "56f21960-41ac-476c-9714-3eaf52184774"
      },
      "execution_count": 17,
      "outputs": [
        {
          "output_type": "stream",
          "name": "stdout",
          "text": [
            "11\n"
          ]
        },
        {
          "output_type": "execute_result",
          "data": {
            "text/plain": [
              "array([ 6,  7,  8,  9, 10, 11])"
            ]
          },
          "metadata": {},
          "execution_count": 17
        }
      ]
    },
    {
      "cell_type": "markdown",
      "source": [
        "Funciones estadisticas"
      ],
      "metadata": {
        "id": "dgWtqBfM2sM0"
      }
    },
    {
      "cell_type": "code",
      "source": [
        "#obtener la media aritmetica del arreglo\n",
        "#5\n",
        "a = np.array([1,3,5,7,9])\n",
        "miMedia = a.mean()\n",
        "miMedia\n",
        "\n",
        "#Obtener la desviacion estandar\n",
        "#2.8284271247461903\n",
        "sd=a.std()\n",
        "print(sd)\n",
        "#Obtener el elemento mas grande\n",
        "#9\n",
        "maximo = a.max()\n",
        "maximo\n",
        "\n",
        "\n",
        "#retorna las dimensiones del arreglo\n",
        "a.shape"
      ],
      "metadata": {
        "colab": {
          "base_uri": "https://localhost:8080/"
        },
        "id": "1nCNHWjO2vBP",
        "outputId": "8f6fe6cb-8f7d-46be-a956-32f90bd17069"
      },
      "execution_count": null,
      "outputs": [
        {
          "output_type": "stream",
          "name": "stdout",
          "text": [
            "2.8284271247461903\n"
          ]
        },
        {
          "output_type": "execute_result",
          "data": {
            "text/plain": [
              "(5,)"
            ]
          },
          "metadata": {},
          "execution_count": 23
        }
      ]
    },
    {
      "cell_type": "markdown",
      "source": [
        "Funciones de manipulación de datps"
      ],
      "metadata": {
        "id": "T9tda9lXQZWg"
      }
    },
    {
      "cell_type": "code",
      "source": [
        "#Linspace es util para generar valores entre dos puntos creando un nuevo arreglo con los valores\n",
        "#array([-3.        , -2.33333333, -1.66666667, -1., -0.33333333,0.33333333,  1. ,  1.66666667,  2.33333333,  3. ])\n",
        "valores = np.linspace(-3,3,num=10)\n",
        "valores\n",
        "\n",
        "#Arange -> permite crear conjuntos de datos \n",
        "#con un parametro crea una fila de datos, consecutivos entre 0 y 15\n",
        "valoresGenerados = np.arange(15)\n",
        "#ejemplo 2 \n",
        "valoresGeneradosSeg = np.arange(5,15)\n",
        "#ejemplo 3\n",
        "valoresGeneradosTres = np.arange(-7.1,7)\n",
        "\n",
        "#Vectores con ceros\n",
        "#crea un vector con 5 elementos en cero\n",
        "vCeros = np.zeros(5)\n",
        "\n",
        "#Vectores con unos\n",
        "#crea un vector con 5 elementos en unos\n",
        "vUnos = np.ones(5)"
      ],
      "metadata": {
        "id": "SpDcZHLmQnaI"
      },
      "execution_count": null,
      "outputs": []
    },
    {
      "cell_type": "markdown",
      "source": [
        "**2D ARRAYS**"
      ],
      "metadata": {
        "id": "L_MbW-tjZTLG"
      }
    },
    {
      "cell_type": "code",
      "source": [
        "#matriz de 4 renglones x 2 columnas\n",
        "A = np.array([[1,2,3],[3,4,5],[5,6,7],[7,8,9]])\n",
        "A.ndim\n",
        "A.shape\n",
        "A.size"
      ],
      "metadata": {
        "colab": {
          "base_uri": "https://localhost:8080/"
        },
        "id": "qv5dK80aZYEV",
        "outputId": "21847a8f-e91e-4178-ec08-fa0b1d29afd8"
      },
      "execution_count": 8,
      "outputs": [
        {
          "output_type": "execute_result",
          "data": {
            "text/plain": [
              "12"
            ]
          },
          "metadata": {},
          "execution_count": 8
        }
      ]
    },
    {
      "cell_type": "code",
      "source": [
        "#acceder a los valores\n",
        "#retorna el valor de 1\n",
        "A[0,0]\n",
        "\n",
        "#acceder a mas de un valor\n",
        "#retorna los renglones 0,1 de la columna 2\n",
        "A[0:2,2]"
      ],
      "metadata": {
        "colab": {
          "base_uri": "https://localhost:8080/"
        },
        "id": "lAtAV0k0dQ2q",
        "outputId": "f17318de-51b1-454a-fbf3-a32336cdb940"
      },
      "execution_count": 9,
      "outputs": [
        {
          "output_type": "execute_result",
          "data": {
            "text/plain": [
              "array([3, 5])"
            ]
          },
          "metadata": {},
          "execution_count": 9
        }
      ]
    },
    {
      "cell_type": "code",
      "source": [
        "#convierte una lista a arreglo\n",
        "a = [[1, 2, 3, 4], [5, 6, 7, 8], [9, 10, 11, 12]]\n",
        "A = np.array(a)\n",
        "A"
      ],
      "metadata": {
        "colab": {
          "base_uri": "https://localhost:8080/"
        },
        "id": "FrNrsFckesRr",
        "outputId": "8de62009-df29-44de-f28e-c6fd1bee13ec"
      },
      "execution_count": 10,
      "outputs": [
        {
          "output_type": "execute_result",
          "data": {
            "text/plain": [
              "array([[ 1,  2,  3,  4],\n",
              "       [ 5,  6,  7,  8],\n",
              "       [ 9, 10, 11, 12]])"
            ]
          },
          "metadata": {},
          "execution_count": 10
        }
      ]
    },
    {
      "cell_type": "markdown",
      "source": [
        "**API'S**"
      ],
      "metadata": {
        "id": "7qSfGeX-fhAQ"
      }
    },
    {
      "cell_type": "code",
      "source": [
        "import requests\n",
        "import os \n",
        "from PIL import Image\n",
        "from IPython.display import IFrame"
      ],
      "metadata": {
        "id": "7-i023b1fjwk"
      },
      "execution_count": 11,
      "outputs": []
    },
    {
      "cell_type": "markdown",
      "source": [
        "LECTURA DE PARAMETROS"
      ],
      "metadata": {
        "id": "gd4ePEZTqEeb"
      }
    },
    {
      "cell_type": "code",
      "source": [
        "url='https://www.ibm.com/'\n",
        "r=requests.get(url)\n",
        "r.status_code\n",
        "print(r.request.headers)\n",
        "print(\"request body:\", r.request.body)"
      ],
      "metadata": {
        "colab": {
          "base_uri": "https://localhost:8080/"
        },
        "id": "fzgtRFA-qJdp",
        "outputId": "21a689e6-a03e-4a51-84bf-0416c6701176"
      },
      "execution_count": 14,
      "outputs": [
        {
          "output_type": "stream",
          "name": "stdout",
          "text": [
            "{'User-Agent': 'python-requests/2.23.0', 'Accept-Encoding': 'gzip, deflate', 'Accept': '*/*', 'Connection': 'keep-alive', 'Cookie': '_abck=81B41F49724452041879A67B7367F217~-1~YAAQnxjdWMtHS6SDAQAArEKppQiQl4K45PyAjzJrygqorxHv8kslxElPlJy8TkwAjXkatsB2vdt+IE/RS5I+L7imdSy/ziBWN3zc1hvJJslB5UXDV6e52wf1NaEYrPtvBKN9qCKLjlDZmTvNrsFChhUpBDzDVoZJPS3e9jcdPEzWwQIidguueBTXIssIBYZhJI/bYOKdKRNgNtSRURlyuJWcgaOB3WFeUfVw2vzfYiM036HOh6JimiqrJkLERrvABJfiW5D0yy/WZnY3M0MZPgaciM0HK46OBc9VGlEa7W6CogK7mvyMv7373CxuFfAweC2usdn34dFOirz+4a/lfAbwwD1SRIMWzf6yijB8I+DTxLrDfLQ=~-1~-1~-1; bm_sz=EBE2DF453815516A8A8A63DE28A2F8F1~YAAQnxjdWMxHS6SDAQAArEKppRHk7i/8BAdouxicTufTArL6rWz8/56+Jv4+OKHsxpKnnzsWgIRNpZpx6N/SlNNmPkO+TL7bpedi4lryUTIyk+2+A33luuUpB5Y9Uacn5AQALegZY7SumZykwrrSJaZnjE85wrxSaIQPfuqMZ37SjwoI6nZjuAdWQFn4AouMl0s+S8gkC5YvJsZ7A4ChJMkrZk3HKJdQetxJtfFJnWSrJAyYCUsupEtUgIxlhr6jwumagSzZEHrj1k945PMnPtixOv/6KzDmJJAEbdriJFc=~3159093~4600631'}\n",
            "request body: None\n"
          ]
        }
      ]
    },
    {
      "cell_type": "code",
      "source": [
        "url='https://cf-courses-data.s3.us.cloud-object-storage.appdomain.cloud/IBMDeveloperSkillsNetwork-PY0101EN-SkillsNetwork/labs/Module%205/data/Example1.txt'\n",
        "path=os.path.join(os.getcwd(),'example1.txt')\n",
        "r=requests.get(url)\n",
        "with open(path,'wb') as f:\n",
        "    f.write(r.content)"
      ],
      "metadata": {
        "id": "0qBbc2dmqhmU"
      },
      "execution_count": 15,
      "outputs": []
    }
  ]
}