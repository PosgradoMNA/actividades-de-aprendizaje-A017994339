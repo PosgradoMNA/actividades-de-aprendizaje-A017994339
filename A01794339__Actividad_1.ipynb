{
  "nbformat": 4,
  "nbformat_minor": 0,
  "metadata": {
    "colab": {
      "provenance": [],
      "authorship_tag": "ABX9TyNCvxt8LRQT/x6mCGEtKpKc",
      "include_colab_link": true
    },
    "kernelspec": {
      "name": "python3",
      "display_name": "Python 3"
    },
    "language_info": {
      "name": "python"
    }
  },
  "cells": [
    {
      "cell_type": "markdown",
      "metadata": {
        "id": "view-in-github",
        "colab_type": "text"
      },
      "source": [
        "<a href=\"https://colab.research.google.com/github/PosgradoMNA/actividades-de-aprendizaje-intelima/blob/main/A01794339__Actividad_1.ipynb\" target=\"_parent\"><img src=\"https://colab.research.google.com/assets/colab-badge.svg\" alt=\"Open In Colab\"/></a>"
      ]
    },
    {
      "cell_type": "markdown",
      "source": [
        "Actividad 1. Practica de ejercicios de Cognitive AI"
      ],
      "metadata": {
        "id": "c1cDoOtWlcSy"
      }
    },
    {
      "cell_type": "code",
      "source": [
        "#MODULE 1\n",
        "#Your first program\n",
        "print(\"Labs from IBM cognitive\")\n"
      ],
      "metadata": {
        "id": "JkYsm_gjqCWK",
        "outputId": "eb131ac3-bec0-44c1-a990-66a383b37616",
        "colab": {
          "base_uri": "https://localhost:8080/"
        }
      },
      "execution_count": 3,
      "outputs": [
        {
          "output_type": "stream",
          "name": "stdout",
          "text": [
            "Labs from IBM cognitive\n",
            "Hello\n",
            "World!\n"
          ]
        }
      ]
    },
    {
      "cell_type": "code",
      "source": [
        "\n",
        "#Question 1\n",
        "print(\"Hello\\nWorld!\")"
      ],
      "metadata": {
        "id": "GC-aax6-rzur",
        "outputId": "81f3cced-17aa-4025-d00b-ef2baa01f494",
        "colab": {
          "base_uri": "https://localhost:8080/"
        }
      },
      "execution_count": 4,
      "outputs": [
        {
          "output_type": "stream",
          "name": "stdout",
          "text": [
            "Hello\n",
            "World!\n"
          ]
        }
      ]
    },
    {
      "cell_type": "code",
      "source": [
        "#Question 2\n",
        "# print('Hello World!')"
      ],
      "metadata": {
        "id": "jm0YXNEFsMJ1"
      },
      "execution_count": 5,
      "outputs": []
    },
    {
      "cell_type": "markdown",
      "source": [
        "TYPES"
      ],
      "metadata": {
        "id": "pkp4yfrHu2We"
      }
    },
    {
      "cell_type": "code",
      "source": [
        "int(1.0)\n",
        "bool(1)"
      ],
      "metadata": {
        "id": "XS2ZwrzV9LI_",
        "outputId": "d761266c-38ff-4c20-f7f3-f086bd4e9aa5",
        "colab": {
          "base_uri": "https://localhost:8080/"
        }
      },
      "execution_count": 6,
      "outputs": [
        {
          "output_type": "execute_result",
          "data": {
            "text/plain": [
              "True"
            ]
          },
          "metadata": {},
          "execution_count": 6
        }
      ]
    },
    {
      "cell_type": "markdown",
      "source": [
        "STRINGS"
      ],
      "metadata": {
        "id": "eZgtuo_A9QeP"
      }
    },
    {
      "cell_type": "code",
      "source": [
        "numbers = \"0123456\"\n",
        "print(numbers[::2])"
      ],
      "metadata": {
        "id": "t5Hlzlgk9S55",
        "outputId": "7d2d058c-5aad-4fd3-899a-04f74d5a8aeb",
        "colab": {
          "base_uri": "https://localhost:8080/"
        }
      },
      "execution_count": 7,
      "outputs": [
        {
          "output_type": "stream",
          "name": "stdout",
          "text": [
            "0246\n"
          ]
        }
      ]
    },
    {
      "cell_type": "code",
      "source": [
        "\"0123456\".find('1')"
      ],
      "metadata": {
        "id": "4ksOs0p_DRND",
        "outputId": "26f0199e-7d62-4d51-bc92-6a3f944ba15f",
        "colab": {
          "base_uri": "https://localhost:8080/"
        }
      },
      "execution_count": 8,
      "outputs": [
        {
          "output_type": "execute_result",
          "data": {
            "text/plain": [
              "1"
            ]
          },
          "metadata": {},
          "execution_count": 8
        }
      ]
    }
  ]
}