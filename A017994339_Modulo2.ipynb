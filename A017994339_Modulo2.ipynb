{
  "nbformat": 4,
  "nbformat_minor": 0,
  "metadata": {
    "colab": {
      "provenance": [],
      "authorship_tag": "ABX9TyPmEpW6M/8rHXi2BHrySnTW",
      "include_colab_link": true
    },
    "kernelspec": {
      "name": "python3",
      "display_name": "Python 3"
    },
    "language_info": {
      "name": "python"
    }
  },
  "cells": [
    {
      "cell_type": "markdown",
      "metadata": {
        "id": "view-in-github",
        "colab_type": "text"
      },
      "source": [
        "<a href=\"https://colab.research.google.com/github/PosgradoMNA/actividades-de-aprendizaje-intelima/blob/main/A017994339_Modulo2.ipynb\" target=\"_parent\"><img src=\"https://colab.research.google.com/assets/colab-badge.svg\" alt=\"Open In Colab\"/></a>"
      ]
    },
    {
      "cell_type": "markdown",
      "source": [
        "FRANCISCO JAVIER MORALES JIMENEZ\n",
        "A017994339\n",
        "Modulo # 2\n",
        "List & Tuples\n",
        "\n"
      ],
      "metadata": {
        "id": "Ji1QdvF40F5P"
      }
    },
    {
      "cell_type": "code",
      "execution_count": 5,
      "metadata": {
        "colab": {
          "base_uri": "https://localhost:8080/"
        },
        "id": "2s-dUoABz_-l",
        "outputId": "89a0d305-081c-419d-96de-c79e03bf182b"
      },
      "outputs": [
        {
          "output_type": "stream",
          "name": "stdout",
          "text": [
            "3\n",
            "3\n"
          ]
        }
      ],
      "source": [
        "A=(0,1,2,3)\n",
        "print(A[3])\n",
        "print(A[-1])"
      ]
    },
    {
      "cell_type": "code",
      "source": [
        "B=[\"a\",\"b\",\"c\"]\n",
        "#Obtiene todos los objetos , despues de la posicion 1\n",
        "B[1:]"
      ],
      "metadata": {
        "colab": {
          "base_uri": "https://localhost:8080/"
        },
        "id": "7DOmqPvM_dBg",
        "outputId": "86f3a4c5-7dee-44ed-d587-e4a8757efa20"
      },
      "execution_count": 6,
      "outputs": [
        {
          "output_type": "execute_result",
          "data": {
            "text/plain": [
              "['b', 'c']"
            ]
          },
          "metadata": {},
          "execution_count": 6
        }
      ]
    },
    {
      "cell_type": "code",
      "source": [
        "#Obtiene la longitud de una tupla\n",
        "genres_tuple = (\"pop\", \"rock\", \"soul\", \"hard rock\", \"soft rock\", \\\n",
        "                \"R&B\", \"progressive rock\", \"disco\") \n",
        "len(genres_tuple)\n"
      ],
      "metadata": {
        "colab": {
          "base_uri": "https://localhost:8080/"
        },
        "id": "bcK0Agp2AyuD",
        "outputId": "50c2010e-1cfb-4e37-9b25-0203d16503ea"
      },
      "execution_count": 17,
      "outputs": [
        {
          "output_type": "execute_result",
          "data": {
            "text/plain": [
              "8"
            ]
          },
          "metadata": {},
          "execution_count": 17
        }
      ]
    },
    {
      "cell_type": "code",
      "source": [
        "#Accede a un elemento con el indice 3\n",
        "genres_tuple[3]"
      ],
      "metadata": {
        "colab": {
          "base_uri": "https://localhost:8080/",
          "height": 35
        },
        "id": "v6N7PUDeENcp",
        "outputId": "85abf335-1f5b-4a18-cbf7-f38e56f9d998"
      },
      "execution_count": 18,
      "outputs": [
        {
          "output_type": "execute_result",
          "data": {
            "text/plain": [
              "'hard rock'"
            ],
            "application/vnd.google.colaboratory.intrinsic+json": {
              "type": "string"
            }
          },
          "metadata": {},
          "execution_count": 18
        }
      ]
    },
    {
      "cell_type": "code",
      "source": [
        "\n",
        "#obtiene los indices 3,4,5 con un slicing\n",
        "genres_tuple[3:6]"
      ],
      "metadata": {
        "colab": {
          "base_uri": "https://localhost:8080/"
        },
        "id": "5RYvrY2dEPma",
        "outputId": "4635c0d0-0735-4f5a-af55-c7b8e07c3866"
      },
      "execution_count": 19,
      "outputs": [
        {
          "output_type": "execute_result",
          "data": {
            "text/plain": [
              "('hard rock', 'soft rock', 'R&B')"
            ]
          },
          "metadata": {},
          "execution_count": 19
        }
      ]
    },
    {
      "cell_type": "code",
      "source": [
        "#Encuentra los dos primeros elementos\n",
        "genres_tuple[0:2]"
      ],
      "metadata": {
        "colab": {
          "base_uri": "https://localhost:8080/"
        },
        "id": "iJzcmJopEdXh",
        "outputId": "c246580a-0d49-4391-ad84-f0e7b831cd98"
      },
      "execution_count": 20,
      "outputs": [
        {
          "output_type": "execute_result",
          "data": {
            "text/plain": [
              "('pop', 'rock')"
            ]
          },
          "metadata": {},
          "execution_count": 20
        }
      ]
    },
    {
      "cell_type": "code",
      "source": [
        "#Encuentra el indice de \"disco\"\n",
        "genres_tuple.index(\"disco\")"
      ],
      "metadata": {
        "colab": {
          "base_uri": "https://localhost:8080/"
        },
        "id": "f8tvY14QExTa",
        "outputId": "88097c1a-003f-471d-b61a-4b1c862d638a"
      },
      "execution_count": 21,
      "outputs": [
        {
          "output_type": "execute_result",
          "data": {
            "text/plain": [
              "7"
            ]
          },
          "metadata": {},
          "execution_count": 21
        }
      ]
    },
    {
      "cell_type": "code",
      "source": [
        "#Ordenar una tupla, las tuplas son inmutables , deben usarse otras variables para poder modificar\n",
        "C_tuple=(-5, 1, -3)\n",
        "C_tuple_sorted = sorted(C_tuple)\n",
        "print(C_tuple_sorted)"
      ],
      "metadata": {
        "colab": {
          "base_uri": "https://localhost:8080/"
        },
        "id": "bwbMkMjBFPOy",
        "outputId": "414ef3df-1ca1-43f8-9e31-4e351687c419"
      },
      "execution_count": 22,
      "outputs": [
        {
          "output_type": "stream",
          "name": "stdout",
          "text": [
            "[-5, -3, 1]\n"
          ]
        }
      ]
    },
    {
      "cell_type": "markdown",
      "source": [
        "LISTAS"
      ],
      "metadata": {
        "id": "Ve6ltVrEJO0g"
      }
    },
    {
      "cell_type": "code",
      "source": [
        "#LISTA \n",
        "a_list = [1,\"hello\",[1,2,3],True]\n",
        "print(a_list)"
      ],
      "metadata": {
        "colab": {
          "base_uri": "https://localhost:8080/"
        },
        "id": "TtxaKNKmJP41",
        "outputId": "7f1a0c88-a5f8-4252-fa3a-08d70effed88"
      },
      "execution_count": 23,
      "outputs": [
        {
          "output_type": "stream",
          "name": "stdout",
          "text": [
            "[1, 'hello', [1, 2, 3], True]\n"
          ]
        }
      ]
    },
    {
      "cell_type": "code",
      "source": [
        "#Encuentra el valor del indice 1\n",
        "a_list[1]"
      ],
      "metadata": {
        "colab": {
          "base_uri": "https://localhost:8080/",
          "height": 35
        },
        "id": "QjJHeQkjJdVp",
        "outputId": "f5bb2d6f-9e9b-4ca5-a924-16036ccc9eee"
      },
      "execution_count": 24,
      "outputs": [
        {
          "output_type": "execute_result",
          "data": {
            "text/plain": [
              "'hello'"
            ],
            "application/vnd.google.colaboratory.intrinsic+json": {
              "type": "string"
            }
          },
          "metadata": {},
          "execution_count": 24
        }
      ]
    },
    {
      "cell_type": "code",
      "source": [
        "#Regresa los elementos 1,2,3 de la lista (slicing)\n",
        "a_list[1:4]"
      ],
      "metadata": {
        "colab": {
          "base_uri": "https://localhost:8080/"
        },
        "id": "JTBwkRyEJiKV",
        "outputId": "201d944a-dd8c-4379-c4ea-eb60e51e2262"
      },
      "execution_count": 25,
      "outputs": [
        {
          "output_type": "execute_result",
          "data": {
            "text/plain": [
              "['hello', [1, 2, 3], True]"
            ]
          },
          "metadata": {},
          "execution_count": 25
        }
      ]
    },
    {
      "cell_type": "code",
      "source": [
        "#Concatenar listas\n",
        "A = [1, 'a']\n",
        "B = [2, 1, 'd']\n",
        "A = A+B\n",
        "print(A)"
      ],
      "metadata": {
        "colab": {
          "base_uri": "https://localhost:8080/"
        },
        "id": "mwcgcj1mJ6Y1",
        "outputId": "60c9e5cd-6c54-41b3-a21d-2616a4653faa"
      },
      "execution_count": 26,
      "outputs": [
        {
          "output_type": "stream",
          "name": "stdout",
          "text": [
            "[1, 'a', 2, 1, 'd']\n"
          ]
        }
      ]
    }
  ]
}