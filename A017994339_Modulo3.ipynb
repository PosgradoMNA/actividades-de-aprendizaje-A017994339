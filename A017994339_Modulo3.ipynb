{
  "nbformat": 4,
  "nbformat_minor": 0,
  "metadata": {
    "colab": {
      "provenance": [],
      "collapsed_sections": [],
      "authorship_tag": "ABX9TyNwX7HSrSeN5QfeCM3gahXs",
      "include_colab_link": true
    },
    "kernelspec": {
      "name": "python3",
      "display_name": "Python 3"
    },
    "language_info": {
      "name": "python"
    }
  },
  "cells": [
    {
      "cell_type": "markdown",
      "metadata": {
        "id": "view-in-github",
        "colab_type": "text"
      },
      "source": [
        "<a href=\"https://colab.research.google.com/github/PosgradoMNA/actividades-de-aprendizaje-A017994339/blob/main/A017994339_Modulo3.ipynb\" target=\"_parent\"><img src=\"https://colab.research.google.com/assets/colab-badge.svg\" alt=\"Open In Colab\"/></a>"
      ]
    },
    {
      "cell_type": "markdown",
      "source": [
        "FRANCISCO JAVIER MORALES JIMENEZ - A017994339\n",
        "\n",
        "Modulo # 3 Fundamentos de programación"
      ],
      "metadata": {
        "id": "Gm-hFD41GmLS"
      }
    },
    {
      "cell_type": "markdown",
      "source": [
        "CONDICIONALES - OPERADORES"
      ],
      "metadata": {
        "id": "5zn_0u7-HKIa"
      }
    },
    {
      "cell_type": "code",
      "source": [
        "#Validación\n",
        "i=1\n",
        "i!=0"
      ],
      "metadata": {
        "colab": {
          "base_uri": "https://localhost:8080/"
        },
        "id": "xMaQCoXPGuHW",
        "outputId": "fb86e327-c448-4360-c466-c20ad10b426a"
      },
      "execution_count": 4,
      "outputs": [
        {
          "output_type": "execute_result",
          "data": {
            "text/plain": [
              "True"
            ]
          },
          "metadata": {},
          "execution_count": 4
        }
      ]
    },
    {
      "cell_type": "code",
      "source": [
        "#Ejemplo de condicional if , la identación es la forma de agrupar \n",
        "x='a'\n",
        "\n",
        "if(x!='a'):\n",
        "\n",
        "  print(\"This is not a.\")\n",
        "\n",
        "else:\n",
        "\n",
        "  print(\"This is a.\")"
      ],
      "metadata": {
        "colab": {
          "base_uri": "https://localhost:8080/"
        },
        "id": "whQ-Cpj0JICr",
        "outputId": "f49966ad-7d3f-4790-b9cd-6aa252a9f53a"
      },
      "execution_count": 5,
      "outputs": [
        {
          "output_type": "stream",
          "name": "stdout",
          "text": [
            "This is a.\n"
          ]
        }
      ]
    },
    {
      "cell_type": "markdown",
      "source": [
        "Quiz condicionales"
      ],
      "metadata": {
        "id": "jbiqi7beKyK6"
      }
    },
    {
      "cell_type": "code",
      "source": [
        "#1 SIMPLE IF\n",
        "albumRating = 8.5\n",
        "\n",
        "if (albumRating>8):\n",
        "    print (\"This album is Amazing!\")"
      ],
      "metadata": {
        "colab": {
          "base_uri": "https://localhost:8080/"
        },
        "id": "5DJM76heK2Ox",
        "outputId": "0d7d41bf-a9ec-479d-d5d9-eba1c515e15d"
      },
      "execution_count": 6,
      "outputs": [
        {
          "output_type": "stream",
          "name": "stdout",
          "text": [
            "This album is Amazing!\n"
          ]
        }
      ]
    },
    {
      "cell_type": "code",
      "source": [
        "#2 IF ELIF\n",
        "albumRating = 7\n",
        "\n",
        "if (albumRating>8):\n",
        "    print (\"This album is Amazing!\")\n",
        "elif (albumRating<=8):\n",
        "  print (\"this album is ok\")"
      ],
      "metadata": {
        "colab": {
          "base_uri": "https://localhost:8080/"
        },
        "id": "G-Vy5RdGLneB",
        "outputId": "32231248-474c-4178-b05d-c644fc58a637"
      },
      "execution_count": 8,
      "outputs": [
        {
          "output_type": "stream",
          "name": "stdout",
          "text": [
            "this album is ok\n"
          ]
        }
      ]
    },
    {
      "cell_type": "code",
      "source": [
        "#3 COMPLEX CONDICIONAL\n",
        "album_year = 1979\n",
        "\n",
        "if album_year < 1980 or album_year == 1991 or album_year == 1993:\n",
        "    print(\"This album came out in year\", album_year)\n"
      ],
      "metadata": {
        "colab": {
          "base_uri": "https://localhost:8080/"
        },
        "id": "90qaBD0WMhth",
        "outputId": "c087f42d-e68e-48a0-a248-1c55e4f25e0b"
      },
      "execution_count": 9,
      "outputs": [
        {
          "output_type": "stream",
          "name": "stdout",
          "text": [
            "This album came out in year 1979\n"
          ]
        }
      ]
    },
    {
      "cell_type": "markdown",
      "source": [
        "CICLOS"
      ],
      "metadata": {
        "id": "c9OBTiUUNoIs"
      }
    },
    {
      "cell_type": "code",
      "source": [
        "#For , pone el color white en cada posicion de la lista\n",
        "squares = [\"red\",\"blue\",\"green\",\"yellow\",\"purple\"]\n",
        "\n",
        "for i in range(0,5):\n",
        "    squares[i] = \"white\"\n",
        "\n",
        "squares"
      ],
      "metadata": {
        "colab": {
          "base_uri": "https://localhost:8080/"
        },
        "id": "v0_GytZ5Nsdx",
        "outputId": "70edcfe4-7e68-4ed8-8122-487652a0431a"
      },
      "execution_count": 10,
      "outputs": [
        {
          "output_type": "execute_result",
          "data": {
            "text/plain": [
              "['white', 'white', 'white', 'white', 'white']"
            ]
          },
          "metadata": {},
          "execution_count": 10
        }
      ]
    },
    {
      "cell_type": "code",
      "source": [
        "# For con objetos\n",
        "squares = [\"red\",\"blue\",\"green\",\"yellow\",\"purple\"]\n",
        "for i,square in enumerate(squares):\n",
        "    print(square)\n",
        "    print(i)\n"
      ],
      "metadata": {
        "colab": {
          "base_uri": "https://localhost:8080/"
        },
        "id": "5Cj2ylTxRWKb",
        "outputId": "9a7d4d95-8b27-4213-8605-77b250ad78e4"
      },
      "execution_count": 13,
      "outputs": [
        {
          "output_type": "stream",
          "name": "stdout",
          "text": [
            "red\n",
            "0\n",
            "blue\n",
            "1\n",
            "green\n",
            "2\n",
            "yellow\n",
            "3\n",
            "purple\n",
            "4\n"
          ]
        }
      ]
    }
  ]
}